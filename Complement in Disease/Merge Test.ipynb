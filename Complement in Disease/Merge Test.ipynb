{
 "cells": [
  {
   "metadata": {
    "ExecuteTime": {
     "end_time": "2025-04-01T23:39:45.317149Z",
     "start_time": "2025-04-01T23:39:43.322452Z"
    }
   },
   "cell_type": "code",
   "source": [
    "import scanpy as sc\n",
    "import anndata as ad"
   ],
   "id": "3d8c8c542e3926c4",
   "outputs": [],
   "execution_count": 1
  },
  {
   "metadata": {
    "ExecuteTime": {
     "end_time": "2025-04-01T23:40:35.593500Z",
     "start_time": "2025-04-01T23:39:45.324775Z"
    }
   },
   "cell_type": "code",
   "source": [
    "adata_sc = sc.read_h5ad(\"/Users/aumchampaneri/Databases/Triple/Human_Nor-CKD-AKF_scRNA.h5ad\")\n",
    "adata_sn = sc.read_h5ad(\"/Users/aumchampaneri/Databases/Triple/Human_Nor-CKD-AKF_snRNA.h5ad\")"
   ],
   "id": "d10cd25ca95ebdfd",
   "outputs": [],
   "execution_count": 2
  },
  {
   "metadata": {
    "ExecuteTime": {
     "end_time": "2025-04-01T23:40:35.896324Z",
     "start_time": "2025-04-01T23:40:35.886375Z"
    }
   },
   "cell_type": "code",
   "source": "adata_sn",
   "id": "3cb5440dd899dac0",
   "outputs": [
    {
     "data": {
      "text/plain": [
       "AnnData object with n_obs × n_vars = 304989 × 36368\n",
       "    obs: 'library_id', 'nCount_RNA', 'nFeature_RNA', 'percent.er', 'percent.mt', 'subclass.l2', 'subclass.l1', 'class', 'experiment_id', 'suspension_type', 'assay_ontology_term_id', 'organism_ontology_term_id', 'donor_id', 'specimen', 'disease_category', 'disease_ontology_term_id', 'eGFR', 'diabetes_history', 'hypertension', 'sex_ontology_term_id', 'development_stage_ontology_term_id', 'self_reported_ethnicity_ontology_term_id', 'is_primary_data', 'region', 'percent.cortex', 'percent.medulla', 'tissue_type', 'tissue_ontology_term_id', 'cell_type_ontology_term_id', 'Age_binned', 'cell_type', 'assay', 'disease', 'organism', 'sex', 'tissue', 'self_reported_ethnicity', 'development_stage', 'observation_joinid'\n",
       "    var: 'feature_is_filtered', 'feature_name', 'feature_reference', 'feature_biotype', 'feature_length', 'feature_type'\n",
       "    uns: 'batch_condition', 'citation', 'default_embedding', 'schema_reference', 'schema_version', 'title'\n",
       "    obsm: 'X_umap'"
      ]
     },
     "execution_count": 3,
     "metadata": {},
     "output_type": "execute_result"
    }
   ],
   "execution_count": 3
  },
  {
   "metadata": {
    "ExecuteTime": {
     "end_time": "2025-04-01T23:41:22.826301Z",
     "start_time": "2025-04-01T23:40:36.022850Z"
    }
   },
   "cell_type": "code",
   "source": [
    "# Ensure both datasets have the same features\n",
    "common_genes = adata_sc.var_names.intersection(adata_sn.var_names)\n",
    "adata_sc = adata_sc[:, common_genes]\n",
    "adata_sn = adata_sn[:, common_genes]"
   ],
   "id": "31d72e737e8c76e7",
   "outputs": [],
   "execution_count": 4
  },
  {
   "metadata": {
    "ExecuteTime": {
     "end_time": "2025-04-01T23:41:59.830477Z",
     "start_time": "2025-04-01T23:41:22.933492Z"
    }
   },
   "cell_type": "code",
   "source": [
    "\n",
    "# Remove 'index' column from adata_sc.var to match adata_sn\n",
    "if 'index' in adata_sc.var.columns:\n",
    "    adata_sc.var.drop(columns=['index'], inplace=True)"
   ],
   "id": "613dcdb944aaa189",
   "outputs": [],
   "execution_count": 5
  },
  {
   "metadata": {
    "jupyter": {
     "is_executing": true
    },
    "ExecuteTime": {
     "start_time": "2025-04-01T23:41:59.869370Z"
    }
   },
   "cell_type": "code",
   "source": [
    "\n",
    "# Concatenate the datasets along the observations axis (rows)\n",
    "adata_combined = ad.concat([adata_sn, adata_sc], axis=0, join='outer', label='batch', keys=['snRNA', 'scRNA'])"
   ],
   "id": "8153d8c4b32db7b3",
   "outputs": [],
   "execution_count": null
  },
  {
   "metadata": {
    "jupyter": {
     "is_executing": true
    },
    "ExecuteTime": {
     "end_time": "2025-04-01T23:57:50.833612Z",
     "start_time": "2025-04-01T23:29:31.500904Z"
    }
   },
   "cell_type": "code",
   "outputs": [],
   "execution_count": null,
   "source": [
    "\n",
    "# Save the combined dataset if needed\n",
    "adata_combined.write_h5ad(\"Human_Nor-CKD-AKF_combined.h5ad\")\n",
    "\n",
    "# Print summary\n",
    "print(adata_combined)"
   ],
   "id": "3eff76980e0cc6cb"
  }
 ],
 "metadata": {
  "kernelspec": {
   "display_name": "Python 3",
   "language": "python",
   "name": "python3"
  },
  "language_info": {
   "codemirror_mode": {
    "name": "ipython",
    "version": 2
   },
   "file_extension": ".py",
   "mimetype": "text/x-python",
   "name": "python",
   "nbconvert_exporter": "python",
   "pygments_lexer": "ipython2",
   "version": "2.7.6"
  }
 },
 "nbformat": 4,
 "nbformat_minor": 5
}
