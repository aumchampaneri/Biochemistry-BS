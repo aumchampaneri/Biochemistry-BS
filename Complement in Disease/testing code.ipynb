{
 "cells": [
  {
   "cell_type": "code",
   "id": "initial_id",
   "metadata": {
    "collapsed": true,
    "ExecuteTime": {
     "end_time": "2025-03-31T22:45:05.439783Z",
     "start_time": "2025-03-31T22:44:47.163985Z"
    }
   },
   "source": [
    "import scanpy as sc\n",
    "from BioMart_Query import gene_dict\n",
    "\n",
    "# Load the processed data\n",
    "adata = sc.read_h5ad(\"/Users/aumchampaneri/Databases/Triple/Human_Nor-CKD-AKF_scRNA_processed.h5ad\")"
   ],
   "outputs": [],
   "execution_count": 1
  },
  {
   "metadata": {
    "ExecuteTime": {
     "end_time": "2025-03-31T22:45:10.561113Z",
     "start_time": "2025-03-31T22:45:10.540371Z"
    }
   },
   "cell_type": "code",
   "source": "adata",
   "id": "1ab688a847a5e4db",
   "outputs": [
    {
     "data": {
      "text/plain": [
       "AnnData object with n_obs × n_vars = 225151 × 29893\n",
       "    obs: 'orig.ident', 'nCount_RNA', 'SpecimenID', 'LibraryID', 'SampleID', 'Run', 'clusterNumber', 'subclass.l1', 'dataSource', 'diseasetype', 'Race', 'clusterClass', 'organism_ontology_term_id', 'assay_ontology_term_id', 'sampletype', 'disease_ontology_term_id', 'sex_ontology_term_id', 'donor_id', 'suspension_type', 'tissue_ontology_term_id', 'tissue_type', 'self_reported_ethnicity_ontology_term_id', 'development_stage_ontology_term_id', 'Age_binned', 'cell_type_ontology_term_id', 'author_cell_type', 'diabetes_history', 'hypertension', 'eGFR', 'is_primary_data', 'disease_category', 'nFeature_RNA', 'percent.mt', 'cell_type', 'assay', 'disease', 'organism', 'sex', 'tissue', 'self_reported_ethnicity', 'development_stage', 'observation_joinid', 'n_genes'\n",
       "    var: 'index', 'feature_is_filtered', 'feature_name', 'feature_reference', 'feature_biotype', 'feature_length', 'feature_type', 'n_cells'\n",
       "    uns: 'batch_condition', 'citation', 'default_embedding', 'log1p', 'schema_reference', 'schema_version', 'title'\n",
       "    obsm: 'X_pca', 'X_umap'"
      ]
     },
     "execution_count": 2,
     "metadata": {},
     "output_type": "execute_result"
    }
   ],
   "execution_count": 2
  },
  {
   "metadata": {
    "ExecuteTime": {
     "end_time": "2025-03-31T23:11:02.412497Z",
     "start_time": "2025-03-31T23:10:54.823052Z"
    }
   },
   "cell_type": "code",
   "source": "",
   "id": "a284e4629489f9ce",
   "outputs": [
    {
     "name": "stdout",
     "output_type": "stream",
     "text": [
      "{'APOE': 'ENSG00000130203', 'ATG5': 'ENSG00000057663', 'ATG7': 'ENSG00000197548', 'BECN1': 'ENSG00000126581', 'C1QA': 'ENSG00000173372', 'C1QB': 'ENSG00000173369', 'C1QC': 'ENSG00000159189', 'C1QTNF6': 'ENSG00000133466', 'C1S': 'ENSG00000182326', 'C2': 'ENSG00000166278', 'C3': 'ENSG00000125730', 'C3AR1': 'ENSG00000171860', 'C5': 'ENSG00000106804', 'C5AR1': 'ENSG00000197405', 'C5AR2': 'ENSG00000134830', 'C6': 'ENSG00000039537', 'C7': 'ENSG00000112936', 'C8A': 'ENSG00000157131', 'C8B': 'ENSG00000021852', 'C8G': 'ENSG00000176919', 'C9': 'ENSG00000113600', 'CASP1': 'ENSG00000137752', 'CASP8': 'ENSG00000064012', 'CD46': 'ENSG00000117335', 'CD55': 'ENSG00000196352', 'CD59': 'ENSG00000085063', 'CFD': 'ENSG00000197766', 'CFH': 'ENSG00000000971', 'CFHR1': 'ENSG00000244414', 'CFHR3': 'ENSG00000116785', 'CFHR4': 'ENSG00000134365', 'CFHR5': 'ENSG00000134389', 'CFI': 'ENSG00000205403', 'CLU': 'ENSG00000120885', 'CR1': 'ENSG00000203710', 'CR2': 'ENSG00000117322', 'CTSD': 'ENSG00000117984', 'CTSS': 'ENSG00000163131', 'DDB1': 'ENSG00000167986', 'FCN1': 'ENSG00000085265', 'FCN2': 'ENSG00000160339', 'FCN3': 'ENSG00000142748', 'GABARAP': 'ENSG00000170296', 'GPNMB': 'ENSG00000136235', 'HSP90AA1': 'ENSG00000080824', 'IRF3': 'ENSG00000126456', 'LAMP1': 'ENSG00000185896', 'MASP2': 'ENSG00000009724', 'MTOR': 'ENSG00000198793', 'NLRP3': 'ENSG00000162711', 'PLG': 'ENSG00000122194', 'SERPING1': 'ENSG00000149131', 'STAT3': 'ENSG00000168610', 'TFEB': 'ENSG00000112561', 'THBD': 'ENSG00000178726', 'TLR2': 'ENSG00000137462', 'TLR4': 'ENSG00000136869', 'ULK1': 'ENSG00000177169', 'VDAC1': 'ENSG00000213585', 'VTN': 'ENSG00000109072', 'VWF': 'ENSG00000110799'}\n",
      "61\n"
     ]
    }
   ],
   "execution_count": 7
  }
 ],
 "metadata": {
  "kernelspec": {
   "display_name": "Python 3",
   "language": "python",
   "name": "python3"
  },
  "language_info": {
   "codemirror_mode": {
    "name": "ipython",
    "version": 2
   },
   "file_extension": ".py",
   "mimetype": "text/x-python",
   "name": "python",
   "nbconvert_exporter": "python",
   "pygments_lexer": "ipython2",
   "version": "2.7.6"
  }
 },
 "nbformat": 4,
 "nbformat_minor": 5
}
