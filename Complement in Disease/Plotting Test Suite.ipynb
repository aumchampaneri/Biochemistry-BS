{
 "cells": [
  {
   "cell_type": "code",
   "id": "5af635bd9b2f742b",
   "metadata": {
    "ExecuteTime": {
     "end_time": "2025-04-03T01:42:15.288851Z",
     "start_time": "2025-04-03T01:42:14.755440Z"
    }
   },
   "source": [
    "# Import packages\n",
    "import scanpy as sc\n",
    "import numpy as np\n",
    "import matplotlib.pyplot as plt\n",
    "import scipy.sparse\n",
    "import pandas as pd\n",
    "import seaborn as sns\n",
    "from scipy.stats import pearsonr, ttest_ind  # Add ttest_ind import\n",
    "import csv\n",
    "import yaml\n",
    "import random\n",
    "import re"
   ],
   "outputs": [],
   "execution_count": 1
  },
  {
   "metadata": {
    "ExecuteTime": {
     "end_time": "2025-04-03T01:42:33.629233Z",
     "start_time": "2025-04-03T01:42:15.294615Z"
    }
   },
   "cell_type": "code",
   "source": [
    "# Load the processed data\n",
    "adata = sc.read_h5ad(\"/Users/aumchampaneri/Databases/Triple/Hs_Nor-CKD-AKF_scRNA_processed.h5ad\")"
   ],
   "id": "b04c7d2751f21638",
   "outputs": [],
   "execution_count": 2
  },
  {
   "metadata": {
    "collapsed": true,
    "ExecuteTime": {
     "end_time": "2025-04-03T01:42:33.837578Z",
     "start_time": "2025-04-03T01:42:33.801743Z"
    }
   },
   "cell_type": "code",
   "source": [
    "# Load the gene dictionary from the csv file\n",
    "gene_dict = {}\n",
    "with open('complement_gene_dictionary.csv', newline='') as file:\n",
    "    reader = csv.reader(file)\n",
    "    next(reader)  # Skip header\n",
    "    for row in reader:\n",
    "        gene_dict[row[0]] = row[1]\n",
    "\n",
    "# Extract keys and values into separate lists\n",
    "gene_dict_names = list(gene_dict.keys())\n",
    "gene_dict_keys = list(gene_dict.values())\n",
    "\n",
    "# Change the name of some entries in gene_dict_names to fix plotting errors\n",
    "gene_dict_names = [re.sub(r'\\bC2\\b', 'C2_ENSG00000166278', name) for name in gene_dict_names]\n",
    "gene_dict_names = [re.sub(r'\\bC3\\b', 'C3_ENSG00000125730', name) for name in gene_dict_names]\n",
    "gene_dict_names = [re.sub(r'\\bC6\\b', 'C6_ENSG00000039537', name) for name in gene_dict_names]\n",
    "gene_dict_names = [re.sub(r'\\bC7\\b', 'C7_ENSG00000112936', name) for name in gene_dict_names]\n",
    "gene_dict_names = [re.sub(r'\\bC9\\b', 'C9_ENSG00000113600', name) for name in gene_dict_names]\n",
    "\n",
    "# Load the tissue type dictionary from the yaml file\n",
    "with open(\"Tissue Type Dictionary.yaml\", \"r\") as file:\n",
    "    cell_type_group = yaml.safe_load(file)\n",
    "\n",
    "# Map cell types to groups\n",
    "adata.obs['cell_type_group'] = 'Other'\n",
    "for group, cell_types in cell_type_group.items():\n",
    "    adata.obs.loc[adata.obs['cell_type'].isin(cell_types), 'cell_type_group'] = group"
   ],
   "id": "initial_id",
   "outputs": [],
   "execution_count": 3
  },
  {
   "metadata": {},
   "cell_type": "markdown",
   "source": "## Test differential expression of complement genes in different disease states",
   "id": "f7a573863ff25fbf"
  },
  {
   "metadata": {},
   "cell_type": "code",
   "outputs": [],
   "execution_count": null,
   "source": "",
   "id": "ee5b7111febae63c"
  }
 ],
 "metadata": {
  "kernelspec": {
   "display_name": "Python 3",
   "language": "python",
   "name": "python3"
  },
  "language_info": {
   "codemirror_mode": {
    "name": "ipython",
    "version": 2
   },
   "file_extension": ".py",
   "mimetype": "text/x-python",
   "name": "python",
   "nbconvert_exporter": "python",
   "pygments_lexer": "ipython2",
   "version": "2.7.6"
  }
 },
 "nbformat": 4,
 "nbformat_minor": 5
}
