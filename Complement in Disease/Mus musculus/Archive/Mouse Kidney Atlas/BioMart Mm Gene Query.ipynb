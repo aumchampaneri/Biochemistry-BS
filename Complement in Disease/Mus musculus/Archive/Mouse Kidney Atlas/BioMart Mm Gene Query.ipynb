{
 "cells": [
  {
   "metadata": {
    "ExecuteTime": {
     "end_time": "2025-03-28T18:52:42.210221Z",
     "start_time": "2025-03-28T18:52:37.922426Z"
    }
   },
   "cell_type": "code",
   "source": [
    "import scanpy as sc\n",
    "import pandas as pd\n",
    "\n",
    "gene_ensembl = sc.queries.biomart_annotations(\"mmusculus\",\n",
    "                                              [\"ensembl_gene_id\", \"external_gene_name\"],\n",
    "                                              host='www.ensembl.org'\n",
    "                                              )\n",
    "\n",
    "mouse_gene_names = [\n",
    "    'C1d', 'C1qa', 'C1qb', 'C1qc', 'C1qbp', 'C1r', 'C1rl', 'C1s', 'C2', 'C3', 'C3ar1', 'C4a',\n",
    "    'C4b', 'C4bp', 'C4bpb', 'Hc', 'C5ar1', 'C5ar2', 'C6', 'C7', 'C8a', 'C8b', 'C8g', 'C9',\n",
    "    'Calr', 'Cd46', 'Cd55', 'Cd59a', 'Cd93', 'Cfb', 'Cfd', 'Cfh', 'Cfhr1', 'Cfhr2', 'Cfhr3',\n",
    "    'Cfhr4', 'Cfhr5', 'Cfi', 'Clu', 'Colec10', 'Colec11', 'Cpb2', 'Cpn1', 'Cpn2', 'Csmd1',\n",
    "    'Cfp', 'Cr1', 'Cr2', 'Fcn1', 'Fcn2', 'Fcn3', 'Itgam', 'Itgamx', 'Itgax', 'Itgb2', 'Masp1',\n",
    "    'Masp2', 'Masp3', 'Mbl2', 'Serping1', 'Susd4', 'Vsig4', 'Vcp'\n",
    "]\n",
    "\n",
    "# Find the mouse_gene_names in the gene_ensembl DataFrame\n",
    "mouse_gene_names = set(mouse_gene_names)\n",
    "gene_ensembl_names = set(gene_ensembl[\"external_gene_name\"].values)\n",
    "\n",
    "# Find the intersection\n",
    "intersection = mouse_gene_names.intersection(gene_ensembl_names)\n",
    "\n",
    "# Filter the gene_ensembl DataFrame to include only the intersecting genes\n",
    "filtered_gene_ensembl = gene_ensembl[gene_ensembl[\"external_gene_name\"].isin(intersection)]\n",
    "\n",
    "# Alphabetize the DataFrame by external_gene_name\n",
    "filtered_gene_ensembl = filtered_gene_ensembl.sort_values(by=\"external_gene_name\")\n",
    "\n",
    "# Reset the index\n",
    "filtered_gene_ensembl = filtered_gene_ensembl.reset_index(drop=True)\n",
    "\n",
    "# Create a dictionary with gene names on the left and Ensembl codes on the right\n",
    "gene_dict = dict(zip(filtered_gene_ensembl[\"external_gene_name\"], filtered_gene_ensembl[\"ensembl_gene_id\"]))\n",
    "\n",
    "# Print the dictionary\n",
    "print(gene_dict)"
   ],
   "id": "337767cbfc583a7a",
   "outputs": [
    {
     "name": "stdout",
     "output_type": "stream",
     "text": [
      "{'C1d': 'ENSMUSG00000000581', 'C1qa': 'ENSMUSG00000036887', 'C1qb': 'ENSMUSG00000036905', 'C1qbp': 'ENSMUSG00000018446', 'C1qc': 'ENSMUSG00000036896', 'C1rl': 'ENSMUSG00000038527', 'C2': 'ENSMUSG00000024371', 'C3': 'ENSMUSG00000024164', 'C3ar1': 'ENSMUSG00000040552', 'C4a': 'ENSMUSG00000015451', 'C4b': 'ENSMUSG00000073418', 'C4bp': 'ENSMUSG00000026405', 'C5ar1': 'ENSMUSG00000049130', 'C5ar2': 'ENSMUSG00000074361', 'C6': 'ENSMUSG00000022181', 'C7': 'ENSMUSG00000079105', 'C8a': 'ENSMUSG00000035031', 'C8b': 'ENSMUSG00000029656', 'C8g': 'ENSMUSG00000015083', 'C9': 'ENSMUSG00000022149', 'Calr': 'ENSMUSG00000003814', 'Cd46': 'ENSMUSG00000016493', 'Cd55': 'ENSMUSG00000026399', 'Cd59a': 'ENSMUSG00000032679', 'Cd93': 'ENSMUSG00000027435', 'Cfb': 'ENSMUSG00000090231', 'Cfd': 'ENSMUSG00000061780', 'Cfh': 'ENSMUSG00000026365', 'Cfhr1': 'ENSMUSG00000057037', 'Cfhr2': 'ENSMUSG00000033898', 'Cfhr3': 'ENSMUSG00000090623', 'Cfhr4': 'ENSMUSG00000070594', 'Cfi': 'ENSMUSG00000058952', 'Cfp': 'ENSMUSG00000001128', 'Clu': 'ENSMUSG00000022037', 'Colec10': 'ENSMUSG00000038591', 'Colec11': 'ENSMUSG00000036655', 'Cpb2': 'ENSMUSG00000021999', 'Cpn1': 'ENSMUSG00000025196', 'Cpn2': 'ENSMUSG00000023176', 'Cr2': 'ENSMUSG00000026616', 'Csmd1': 'ENSMUSG00000060924', 'Hc': 'ENSMUSG00000026874', 'Itgam': 'ENSMUSG00000030786', 'Itgax': 'ENSMUSG00000030789', 'Itgb2': 'ENSMUSG00000000290', 'Masp1': 'ENSMUSG00000022887', 'Masp2': 'ENSMUSG00000028979', 'Mbl2': 'ENSMUSG00000024863', 'Serping1': 'ENSMUSG00000023224', 'Susd4': 'ENSMUSG00000038576', 'Vcp': 'ENSMUSG00000028452', 'Vsig4': 'ENSMUSG00000044206'}\n"
     ]
    }
   ],
   "execution_count": 8
  }
 ],
 "metadata": {
  "kernelspec": {
   "display_name": "Python 3",
   "language": "python",
   "name": "python3"
  },
  "language_info": {
   "codemirror_mode": {
    "name": "ipython",
    "version": 2
   },
   "file_extension": ".py",
   "mimetype": "text/x-python",
   "name": "python",
   "nbconvert_exporter": "python",
   "pygments_lexer": "ipython2",
   "version": "2.7.6"
  }
 },
 "nbformat": 4,
 "nbformat_minor": 5
}
