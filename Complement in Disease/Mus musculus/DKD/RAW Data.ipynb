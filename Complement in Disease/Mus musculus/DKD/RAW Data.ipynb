{
 "cells": [
  {
   "cell_type": "code",
   "id": "initial_id",
   "metadata": {
    "collapsed": true,
    "jupyter": {
     "is_executing": true
    },
    "ExecuteTime": {
     "end_time": "2025-04-10T03:00:34.161885Z",
     "start_time": "2025-04-10T02:51:06.466123Z"
    }
   },
   "source": [
    "import pandas as pd\n",
    "import scanpy as sc\n",
    "\n",
    "# Read the expression matrix\n",
    "expr = pd.read_csv('/Users/aumchampaneri/Databases/Mm DKD Dataset/GSE181382_Expr.txt', sep=\"\\t\", index_col=0)  # index_col=0 assumes first column is gene names\n",
    "\n",
    "# Create AnnData\n",
    "adata = sc.AnnData(expr.T)  # Transpose so cells are rows (obs), genes are columns (var)\n",
    "\n",
    "# Optional: clean up names if needed\n",
    "adata.var_names_make_unique()\n",
    "\n",
    "print(adata)"
   ],
   "outputs": [],
   "execution_count": null
  }
 ],
 "metadata": {
  "kernelspec": {
   "display_name": "Python 3",
   "language": "python",
   "name": "python3"
  },
  "language_info": {
   "codemirror_mode": {
    "name": "ipython",
    "version": 2
   },
   "file_extension": ".py",
   "mimetype": "text/x-python",
   "name": "python",
   "nbconvert_exporter": "python",
   "pygments_lexer": "ipython2",
   "version": "2.7.6"
  }
 },
 "nbformat": 4,
 "nbformat_minor": 5
}
