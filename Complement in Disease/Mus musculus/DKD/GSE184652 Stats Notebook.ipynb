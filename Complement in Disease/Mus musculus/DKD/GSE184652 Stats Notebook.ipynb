{
 "cells": [
  {
   "cell_type": "code",
   "id": "initial_id",
   "metadata": {
    "collapsed": true,
    "ExecuteTime": {
     "end_time": "2025-04-11T00:07:07.866476Z",
     "start_time": "2025-04-11T00:06:22.135343Z"
    }
   },
   "source": [
    "import scanpy as sc\n",
    "import numpy as np\n",
    "import pandas as pd\n",
    "\n",
    "# Load the saved AnnData object\n",
    "adata = sc.read_h5ad('/Users/aumchampaneri/Databases/Mm DKD Two/GSE184652_RAW/GSE184652_subset_raw.h5ad')\n",
    "\n",
    "# Basic shape\n",
    "print(f\"📦 Shape: {adata.n_obs} cells × {adata.n_vars} genes\")\n",
    "\n",
    "# Samples\n",
    "print(\"\\n🧪 Sample distribution:\")\n",
    "print(adata.obs['sample'].value_counts())\n",
    "\n",
    "# Total counts per cell\n",
    "adata.obs['n_counts'] = adata.X.sum(axis=1).A1 if hasattr(adata.X, 'A1') else adata.X.sum(axis=1)\n",
    "adata.obs['n_genes'] = (adata.X > 0).sum(axis=1).A1 if hasattr(adata.X, 'A1') else (adata.X > 0).sum(axis=1)\n",
    "\n",
    "print(\"\\n📈 Total counts per cell (summary):\")\n",
    "print(adata.obs['n_counts'].describe())\n",
    "\n",
    "print(\"\\n🧬 Genes detected per cell (summary):\")\n",
    "print(adata.obs['n_genes'].describe())"
   ],
   "outputs": [
    {
     "name": "stdout",
     "output_type": "stream",
     "text": [
      "📦 Shape: 24382676 cells × 31053 genes\n",
      "\n",
      "🧪 Sample distribution:\n",
      "sample\n",
      "GSM5594469    2652516\n",
      "GSM5594476    2642317\n",
      "GSM5594477    2641128\n",
      "GSM5594475    2470389\n",
      "GSM5594474    2251391\n",
      "GSM5594472    2051719\n",
      "GSM5594468    2022665\n",
      "GSM5594471    1969738\n",
      "GSM5594470    1966778\n",
      "GSM5594478    1880791\n",
      "GSM5594473    1833244\n",
      "Name: count, dtype: int64\n",
      "\n",
      "📈 Total counts per cell (summary):\n",
      "count    2.438268e+07\n",
      "mean     4.236303e+01\n",
      "std      3.581967e+02\n",
      "min      0.000000e+00\n",
      "25%      0.000000e+00\n",
      "50%      1.000000e+00\n",
      "75%      2.000000e+00\n",
      "max      5.656500e+04\n",
      "Name: n_counts, dtype: float64\n",
      "\n",
      "🧬 Genes detected per cell (summary):\n",
      "count    2.438268e+07\n",
      "mean     2.685171e+01\n",
      "std      1.811557e+02\n",
      "min      0.000000e+00\n",
      "25%      0.000000e+00\n",
      "50%      1.000000e+00\n",
      "75%      2.000000e+00\n",
      "max      8.490000e+03\n",
      "Name: n_genes, dtype: float64\n"
     ]
    }
   ],
   "execution_count": 1
  }
 ],
 "metadata": {
  "kernelspec": {
   "display_name": "Python 3",
   "language": "python",
   "name": "python3"
  },
  "language_info": {
   "codemirror_mode": {
    "name": "ipython",
    "version": 2
   },
   "file_extension": ".py",
   "mimetype": "text/x-python",
   "name": "python",
   "nbconvert_exporter": "python",
   "pygments_lexer": "ipython2",
   "version": "2.7.6"
  }
 },
 "nbformat": 4,
 "nbformat_minor": 5
}
