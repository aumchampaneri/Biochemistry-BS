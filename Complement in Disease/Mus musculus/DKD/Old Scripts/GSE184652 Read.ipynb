{
 "cells": [
  {
   "cell_type": "code",
   "id": "c7bb50a9eb65f126",
   "metadata": {
    "jupyter": {
     "is_executing": true
    },
    "ExecuteTime": {
     "start_time": "2025-04-16T01:06:50.206389Z"
    }
   },
   "source": [
    "import scanpy as sc\n",
    "\n",
    "# Define the path to your data directory\n",
    "data_path = '/Users/aumchampaneri/Databases/Mus musculus/DKD/GSE184652/count_matrix_combined_after_cellbender/'\n",
    "\n",
    "# Read the data\n",
    "adata = sc.read_10x_mtx(data_path, var_names='gene_symbols', make_unique=True)"
   ],
   "outputs": [],
   "execution_count": null
  },
  {
   "metadata": {
    "collapsed": true
   },
   "cell_type": "code",
   "outputs": [],
   "execution_count": null,
   "source": [
    "\n",
    "# Define the output file path\n",
    "output_file = '/Users/aumchampaneri/Databases/Mus musculus/DKD/GSE184652/adata.h5ad'\n",
    "\n",
    "# Save the AnnData object\n",
    "adata.write(output_file)\n"
   ],
   "id": "initial_id"
  }
 ],
 "metadata": {
  "kernelspec": {
   "display_name": "Python 3",
   "language": "python",
   "name": "python3"
  },
  "language_info": {
   "codemirror_mode": {
    "name": "ipython",
    "version": 2
   },
   "file_extension": ".py",
   "mimetype": "text/x-python",
   "name": "python",
   "nbconvert_exporter": "python",
   "pygments_lexer": "ipython2",
   "version": "2.7.6"
  }
 },
 "nbformat": 4,
 "nbformat_minor": 5
}
