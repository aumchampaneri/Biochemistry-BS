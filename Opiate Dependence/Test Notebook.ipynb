{
 "cells": [
  {
   "cell_type": "code",
   "id": "initial_id",
   "metadata": {
    "collapsed": true,
    "ExecuteTime": {
     "end_time": "2025-04-18T18:50:03.035997Z",
     "start_time": "2025-04-18T18:49:58.472572Z"
    }
   },
   "source": "import scanpy as sc",
   "outputs": [],
   "execution_count": 1
  },
  {
   "metadata": {
    "jupyter": {
     "is_executing": true
    },
    "ExecuteTime": {
     "start_time": "2025-04-18T18:50:25.846732Z"
    }
   },
   "cell_type": "code",
   "source": "adata = sc.read_h5ad('/Users/aumchampaneri/Databases/Opiate Dependence/665dc4a2-7f38-4d78-b632-f575e3dd550e.h5ad')",
   "id": "94178dea93faab78",
   "outputs": [],
   "execution_count": null
  },
  {
   "metadata": {},
   "cell_type": "code",
   "outputs": [],
   "execution_count": null,
   "source": "adata",
   "id": "10cc03fdccb594e1"
  }
 ],
 "metadata": {
  "kernelspec": {
   "display_name": "Python 3",
   "language": "python",
   "name": "python3"
  },
  "language_info": {
   "codemirror_mode": {
    "name": "ipython",
    "version": 2
   },
   "file_extension": ".py",
   "mimetype": "text/x-python",
   "name": "python",
   "nbconvert_exporter": "python",
   "pygments_lexer": "ipython2",
   "version": "2.7.6"
  }
 },
 "nbformat": 4,
 "nbformat_minor": 5
}
