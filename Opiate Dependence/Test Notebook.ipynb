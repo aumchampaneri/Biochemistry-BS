{
 "cells": [
  {
   "cell_type": "code",
   "id": "initial_id",
   "metadata": {
    "collapsed": true,
    "ExecuteTime": {
     "end_time": "2025-04-18T18:50:03.035997Z",
     "start_time": "2025-04-18T18:49:58.472572Z"
    }
   },
   "source": "import scanpy as sc",
   "outputs": [],
   "execution_count": 1
  },
  {
   "metadata": {
    "ExecuteTime": {
     "end_time": "2025-04-18T18:50:44.269989Z",
     "start_time": "2025-04-18T18:50:25.846732Z"
    }
   },
   "cell_type": "code",
   "source": "adata = sc.read_h5ad('/Users/aumchampaneri/Databases/Opiate Dependence/665dc4a2-7f38-4d78-b632-f575e3dd550e.h5ad')",
   "id": "94178dea93faab78",
   "outputs": [],
   "execution_count": 2
  },
  {
   "metadata": {
    "ExecuteTime": {
     "end_time": "2025-04-18T18:50:44.293361Z",
     "start_time": "2025-04-18T18:50:44.286320Z"
    }
   },
   "cell_type": "code",
   "source": "adata",
   "id": "10cc03fdccb594e1",
   "outputs": [
    {
     "data": {
      "text/plain": [
       "AnnData object with n_obs × n_vars = 98848 × 31474\n",
       "    obs: 'nCount_RNA', 'nFeature_RNA', 'nCount_SCT', 'nFeature_SCT', 'orig.ident', 'scds.hybrid_score', 'scds.keep', 'percent.mt', 'miQC.probability', 'miQC.keep', 'dropletQC.nucFrac', 'dropletQC.keep', 'integrated_snn_res.1', 'seurat_clusters', 'X', 'ID', 'Pair', 'Case', 'Age', 'BMI', 'PMI', 'pH', 'RIN', 'Tissue.Storage.Time.mo.b', 'Dx_OUD', 'Dx_Substances', 'Dx_Comorbid', 'Dur.OUD', 'DSM.IV.SUD', 'DSM.IV.Psych', 'Blood.Toxicology', 'Infxn.Dx', 'Medications.ATODc', 'Tobacco.ATOD', 'Manner.of.Death', 'Cause.of.Death', 'organism_ontology_term_id', 'tissue_ontology_term_id', 'assay_ontology_term_id', 'disease_ontology_term_id', 'cell_type_ontology_term_id', 'author_cell_type', 'self_reported_ethnicity_ontology_term_id', 'sex_ontology_term_id', 'donor_id', 'suspension_type', 'is_primary_data', 'development_stage_ontology_term_id', 'tissue_type', 'cell_type', 'assay', 'disease', 'organism', 'sex', 'tissue', 'self_reported_ethnicity', 'development_stage', 'observation_joinid'\n",
       "    var: 'type', 'feature_is_filtered', 'feature_name', 'feature_reference', 'feature_biotype', 'feature_length', 'feature_type'\n",
       "    uns: 'batch_condition', 'citation', 'schema_reference', 'schema_version', 'title'\n",
       "    obsm: 'X_umap'"
      ]
     },
     "execution_count": 3,
     "metadata": {},
     "output_type": "execute_result"
    }
   ],
   "execution_count": 3
  }
 ],
 "metadata": {
  "kernelspec": {
   "display_name": "Python 3",
   "language": "python",
   "name": "python3"
  },
  "language_info": {
   "codemirror_mode": {
    "name": "ipython",
    "version": 2
   },
   "file_extension": ".py",
   "mimetype": "text/x-python",
   "name": "python",
   "nbconvert_exporter": "python",
   "pygments_lexer": "ipython2",
   "version": "2.7.6"
  }
 },
 "nbformat": 4,
 "nbformat_minor": 5
}
