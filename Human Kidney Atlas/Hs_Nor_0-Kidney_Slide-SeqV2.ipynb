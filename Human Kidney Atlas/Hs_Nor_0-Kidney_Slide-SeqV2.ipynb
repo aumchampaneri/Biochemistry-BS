{
 "cells": [
  {
   "metadata": {},
   "cell_type": "markdown",
   "source": [
    "# Notes\n",
    "# This is a slide-seq dataset of human kidney\n",
    "\n",
    "| Dataset Name                                                        | dataset_h5ad_path                                      |\n",
    "|---------------------------------------------------------------------|---------------------------------------|\n",
    "| Spatial transcriptomics in the healthy human kidney: Puck_200903_13 | 88b7da92-178d-4f27-bc18-b0165b256c67.h5ad |\n",
    "| Spatial transcriptomics in the healthy human kidney: Puck_200903_12 | 9df7a9ce-4298-4d65-9e89-33d83ac8bb69.h5ad |\n",
    "| Spatial transcriptomics in the healthy human kidney: Puck_200903_11 | a1e16320-801b-4d0a-b60d-ebf9b4130bb4.h5ad |\n",
    "| Spatial transcriptomics in the healthy human kidney: Puck_200903_10 | ff77ee42-ed01-4e50-8413-4cea1f6fbcbc.h5ad |\n",
    "| Spatial transcriptomics in the healthy human kidney: Puck_200205_19 | c97f9167-f7f7-40d4-babf-a47663290c09.h5ad |\n",
    "| Spatial transcriptomics in the healthy human kidney: Puck_200205_18 | cb97280b-1c7c-4c55-a921-481062abd9f7.h5ad |\n",
    "| Spatial transcriptomics in the healthy human kidney: Puck_200205_17 | 3bf0da2c-f0d7-4078-a152-d6a4f97ea43f.h5ad |\n",
    "| Spatial transcriptomics in the healthy human kidney: Puck_200205_16 | 5c451b91-eb50-47f9-a268-467018a09023.h5ad |\n",
    "| Spatial transcriptomics in the healthy human kidney: Puck_200205_13 | 0f68a90c-afc0-46dc-ad88-cf63a9fc5b56.h5ad |\n",
    "| Spatial transcriptomics in the healthy human kidney: Puck_200131_26 | 4ebe33a1-c8ba-4238-9724-bd8b3a977521.h5ad |\n",
    "| Spatial transcriptomics in the healthy human kidney: Puck_200131_25 | 3679ae7d-d70e-4c09-a8bb-78b8ae1006ff.h5ad |\n",
    "| Spatial transcriptomics in the healthy human kidney: Puck_200131_24 | 141b77bf-65b5-47d3-b860-d9ef25caa0e0.h5ad |\n",
    "| Spatial transcriptomics in the healthy human kidney: Puck_200121_03 | 6a7c4462-334e-45a4-8aa4-28d3733bbbac.h5ad |\n",
    "| Spatial transcriptomics in the healthy human kidney: Puck_200121_01 | 99c400af-2a21-4937-9b84-cc1e52f7ba09.h5ad |\n",
    "| Spatial transcriptomics in the healthy human kidney: Puck_200115_18 | 6d62fc4d-052e-4bb4-92ed-55785502a02c.h5ad |\n",
    "| Spatial transcriptomics in the healthy human kidney: Puck_200115_17 | d98ea49e-b70d-4434-b850-bbe217c9b66e.h5ad |\n",
    "| Spatial transcriptomics in the healthy human kidney: Puck_200115_16 | dd49aae6-274c-4d8b-9bf6-025627fdf39e.h5ad |\n",
    "| Spatial transcriptomics in the healthy human kidney: Puck_200115_15 | 51e353b3-c8fe-4e8c-b912-e75c9bc28a66.h5ad |\n",
    "| Spatial transcriptomics in the healthy human kidney: Puck_200115_14 | 8c275f25-d8d9-40b2-a81d-498bf89c4677.h5ad |\n",
    "| Spatial transcriptomics in the healthy human kidney: Puck_200115_12 | df4f1358-4a19-44f5-b136-bc7274c29789.h5ad |\n",
    "| Spatial transcriptomics in the healthy human kidney: Puck_200115_11 | 4d31941b-7abc-4963-bf0c-2021998bc3bc.h5ad |\n",
    "| Spatial transcriptomics in the healthy human kidney: Puck_200115_10 | 02f8bb42-0322-4906-b9ad-b92a5ce73a2d.h5ad |\n",
    "| Spatial transcriptomics in the healthy human kidney: Puck_200115_09 | c2dec445-4116-4b6d-9253-a73f9516460f.h5ad |\n",
    "| Spatial transcriptomics in the healthy human kidney: Puck_200115_07 | 0d049f5a-19b1-4055-a377-011a9570032c.h5ad |\n",
    "| Spatial transcriptomics in the healthy human kidney: Puck_200115_06 | deb385b8-8030-42a4-af1f-aa28932c7344.h5ad |\n",
    "| Spatial transcriptomics in the healthy human kidney: Puck_200115_05 | 34cb364a-c405-478e-8cdd-48a69ae5c5b4.h5ad |\n",
    "| Spatial transcriptomics in the healthy human kidney: Puck_200115_04 | b627552d-c205-4ab3-b440-e08b3271d372.h5ad |\n",
    "| Spatial transcriptomics in the healthy human kidney: Puck_200115_03 | 2d4998cf-bd56-4e59-b57d-a04682a36ab1.h5ad |\n",
    "| Spatial transcriptomics in the healthy human kidney: Puck_200115_02 | 8c6f14c0-6162-4c2e-971f-510d7b766d7c.h5ad |\n",
    "| Spatial transcriptomics in the healthy human kidney: Puck_200115_01 | 0ae96eac-ff08-4870-9bc3-cd12418af7e4.h5ad |\n",
    "| Spatial transcriptomics in the healthy human kidney: Puck_200113_12 | 0738f538-ff2f-4346-b2eb-72704c291188.h5ad |\n",
    "| Spatial transcriptomics in the healthy human kidney: Puck_200113_11 | a5ecb41a-d1e8-4d6a-954c-30472a2f1007.h5ad |\n",
    "| Spatial transcriptomics in the healthy human kidney: Puck_200113_10 | 0737011b-45a6-49f6-8b5a-b85c35160bac.h5ad |\n",
    "| Spatial transcriptomics in the healthy human kidney: Puck_200113_09 | a5a6c83a-3afe-4a87-8c32-691118c46e51.h5ad |\n",
    "| Spatial transcriptomics in the healthy human kidney: Puck_200113_08 | 7139f99f-c610-43b8-bb06-4280acb1c987.h5ad |\n",
    "| Spatial transcriptomics in the healthy human kidney: Puck_200113_07 | 90ef2377-e4d0-41c7-924f-6f9ee7a9237d.h5ad |\n",
    "| Spatial transcriptomics in the healthy human kidney: Puck_200104_23 | 55158af8-7de6-48d5-8aa3-0088ebd7cd4a.h5ad |\n",
    "| Spatial transcriptomics in the healthy human kidney: Puck_200104_21 | 5f84ba14-4431-4d49-a88f-514cad5a30c8.h5ad |\n",
    "| Spatial transcriptomics in the healthy human kidney: Puck_200104_20 | 7f479f74-5a7e-4666-9f0d-3af0b341eb0d.h5ad |\n",
    "| Spatial transcriptomics in the healthy human kidney: Puck_200104_19 | f425376b-bc86-44fd-936f-c43c0c64bf4f.h5ad |\n",
    "| Spatial transcriptomics in the healthy human kidney: Puck_200104_18 | 6ebb6e9b-efd0-4e02-a49a-4bf3c732203b.h5ad |\n",
    "| Spatial transcriptomics in the healthy human kidney: Puck_200104_17 | 53ea4f06-0319-4b13-8e9d-e2581023aab7.h5ad |\n",
    "| Spatial transcriptomics in the healthy human kidney: Puck_200104_16 | 43600c3c-6aa4-490a-bf80-bd74a52edfa4.h5ad |\n",
    "| Spatial transcriptomics in the healthy human kidney: Puck_200104_15 | 28ab6eb8-dfa4-4536-9f26-7e06c1b98e8e.h5ad |\n"
   ],
   "id": "fcc0d2ad4604133f"
  }
 ],
 "metadata": {
  "kernelspec": {
   "display_name": "Python 3",
   "language": "python",
   "name": "python3"
  },
  "language_info": {
   "codemirror_mode": {
    "name": "ipython",
    "version": 2
   },
   "file_extension": ".py",
   "mimetype": "text/x-python",
   "name": "python",
   "nbconvert_exporter": "python",
   "pygments_lexer": "ipython2",
   "version": "2.7.6"
  }
 },
 "nbformat": 4,
 "nbformat_minor": 5
}
