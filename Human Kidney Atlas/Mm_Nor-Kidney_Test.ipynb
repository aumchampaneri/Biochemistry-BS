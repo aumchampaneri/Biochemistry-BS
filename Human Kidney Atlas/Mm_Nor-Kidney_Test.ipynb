{
 "cells": [
  {
   "cell_type": "code",
   "id": "initial_id",
   "metadata": {
    "collapsed": true,
    "ExecuteTime": {
     "end_time": "2025-03-26T20:05:18.200615Z",
     "start_time": "2025-03-26T20:05:17.775221Z"
    }
   },
   "source": "",
   "outputs": [
    {
     "ename": "PyRdsParserError",
     "evalue": "Error initializing 'PyRdsParser': Error in 'RdsObject' constructor: failed to read the header from the RDS preamble\n  - only RDS files in XDR format are currently supported",
     "output_type": "error",
     "traceback": [
      "\u001B[0;31m---------------------------------------------------------------------------\u001B[0m",
      "\u001B[0;31mRdsParserError\u001B[0m                            Traceback (most recent call last)",
      "File \u001B[0;32m~/.pyenv/versions/miniconda3-latest/lib/python3.12/site-packages/rds2py/PyRdsReader.py:50\u001B[0m, in \u001B[0;36mPyRdsParser.__init__\u001B[0;34m(self, file_path)\u001B[0m\n\u001B[1;32m     49\u001B[0m \u001B[38;5;28;01mtry\u001B[39;00m:\n\u001B[0;32m---> 50\u001B[0m     \u001B[38;5;28mself\u001B[39m\u001B[38;5;241m.\u001B[39mrds_object \u001B[38;5;241m=\u001B[39m RdsObject(file_path)\n\u001B[1;32m     51\u001B[0m     robject \u001B[38;5;241m=\u001B[39m \u001B[38;5;28mself\u001B[39m\u001B[38;5;241m.\u001B[39mrds_object\u001B[38;5;241m.\u001B[39mget_robject()\n",
      "\u001B[0;31mRdsParserError\u001B[0m: Error in 'RdsObject' constructor: failed to read the header from the RDS preamble\n  - only RDS files in XDR format are currently supported",
      "\nDuring handling of the above exception, another exception occurred:\n",
      "\u001B[0;31mPyRdsParserError\u001B[0m                          Traceback (most recent call last)",
      "Cell \u001B[0;32mIn[1], line 3\u001B[0m\n\u001B[1;32m      1\u001B[0m \u001B[38;5;28;01mfrom\u001B[39;00m \u001B[38;5;21;01mrds2py\u001B[39;00m \u001B[38;5;28;01mimport\u001B[39;00m read_rds\n\u001B[0;32m----> 3\u001B[0m r_obj \u001B[38;5;241m=\u001B[39m read_rds(\u001B[38;5;124m\"\u001B[39m\u001B[38;5;124m/Users/aumchampaneri/Downloads/facs_Kidney_seurat_tiss.Robj\u001B[39m\u001B[38;5;124m\"\u001B[39m)\n",
      "File \u001B[0;32m~/.pyenv/versions/miniconda3-latest/lib/python3.12/site-packages/rds2py/generics.py:96\u001B[0m, in \u001B[0;36mread_rds\u001B[0;34m(path, **kwargs)\u001B[0m\n\u001B[1;32m     82\u001B[0m \u001B[38;5;28;01mdef\u001B[39;00m \u001B[38;5;21mread_rds\u001B[39m(path: \u001B[38;5;28mstr\u001B[39m, \u001B[38;5;241m*\u001B[39m\u001B[38;5;241m*\u001B[39mkwargs):\n\u001B[1;32m     83\u001B[0m \u001B[38;5;250m    \u001B[39m\u001B[38;5;124;03m\"\"\"Read an RDS file and convert it to an appropriate Python object.\u001B[39;00m\n\u001B[1;32m     84\u001B[0m \n\u001B[1;32m     85\u001B[0m \u001B[38;5;124;03m    Args:\u001B[39;00m\n\u001B[0;32m   (...)\u001B[0m\n\u001B[1;32m     94\u001B[0m \u001B[38;5;124;03m        depends on the contents of the RDS file and the available parsers.\u001B[39;00m\n\u001B[1;32m     95\u001B[0m \u001B[38;5;124;03m    \"\"\"\u001B[39;00m\n\u001B[0;32m---> 96\u001B[0m     _robj \u001B[38;5;241m=\u001B[39m parse_rds(path\u001B[38;5;241m=\u001B[39mpath)\n\u001B[1;32m     97\u001B[0m     \u001B[38;5;28;01mreturn\u001B[39;00m _dispatcher(_robj, \u001B[38;5;241m*\u001B[39m\u001B[38;5;241m*\u001B[39mkwargs)\n",
      "File \u001B[0;32m~/.pyenv/versions/miniconda3-latest/lib/python3.12/site-packages/rds2py/rdsutils.py:25\u001B[0m, in \u001B[0;36mparse_rds\u001B[0;34m(path)\u001B[0m\n\u001B[1;32m     14\u001B[0m \u001B[38;5;28;01mdef\u001B[39;00m \u001B[38;5;21mparse_rds\u001B[39m(path: \u001B[38;5;28mstr\u001B[39m) \u001B[38;5;241m-\u001B[39m\u001B[38;5;241m>\u001B[39m \u001B[38;5;28mdict\u001B[39m:\n\u001B[1;32m     15\u001B[0m \u001B[38;5;250m    \u001B[39m\u001B[38;5;124;03m\"\"\"Parse an RDS file into a dictionary representation.\u001B[39;00m\n\u001B[1;32m     16\u001B[0m \n\u001B[1;32m     17\u001B[0m \u001B[38;5;124;03m    Args:\u001B[39;00m\n\u001B[0;32m   (...)\u001B[0m\n\u001B[1;32m     23\u001B[0m \u001B[38;5;124;03m        The structure depends on the type of R object stored in the file.\u001B[39;00m\n\u001B[1;32m     24\u001B[0m \u001B[38;5;124;03m    \"\"\"\u001B[39;00m\n\u001B[0;32m---> 25\u001B[0m     parsed_obj \u001B[38;5;241m=\u001B[39m PyRdsParser(path)\n\u001B[1;32m     26\u001B[0m     realized \u001B[38;5;241m=\u001B[39m parsed_obj\u001B[38;5;241m.\u001B[39mparse()\n\u001B[1;32m     28\u001B[0m     \u001B[38;5;28;01mreturn\u001B[39;00m realized\n",
      "File \u001B[0;32m~/.pyenv/versions/miniconda3-latest/lib/python3.12/site-packages/rds2py/PyRdsReader.py:58\u001B[0m, in \u001B[0;36mPyRdsParser.__init__\u001B[0;34m(self, file_path)\u001B[0m\n\u001B[1;32m     56\u001B[0m     \u001B[38;5;28mself\u001B[39m\u001B[38;5;241m.\u001B[39mroot_object \u001B[38;5;241m=\u001B[39m robject\n\u001B[1;32m     57\u001B[0m \u001B[38;5;28;01mexcept\u001B[39;00m \u001B[38;5;167;01mException\u001B[39;00m \u001B[38;5;28;01mas\u001B[39;00m e:\n\u001B[0;32m---> 58\u001B[0m     \u001B[38;5;28;01mraise\u001B[39;00m PyRdsParserError(\u001B[38;5;124mf\u001B[39m\u001B[38;5;124m\"\u001B[39m\u001B[38;5;124mError initializing \u001B[39m\u001B[38;5;124m'\u001B[39m\u001B[38;5;124mPyRdsParser\u001B[39m\u001B[38;5;124m'\u001B[39m\u001B[38;5;124m: \u001B[39m\u001B[38;5;132;01m{\u001B[39;00m\u001B[38;5;28mstr\u001B[39m(e)\u001B[38;5;132;01m}\u001B[39;00m\u001B[38;5;124m\"\u001B[39m)\n",
      "\u001B[0;31mPyRdsParserError\u001B[0m: Error initializing 'PyRdsParser': Error in 'RdsObject' constructor: failed to read the header from the RDS preamble\n  - only RDS files in XDR format are currently supported"
     ]
    }
   ],
   "execution_count": 1
  }
 ],
 "metadata": {
  "kernelspec": {
   "display_name": "Python 3",
   "language": "python",
   "name": "python3"
  },
  "language_info": {
   "codemirror_mode": {
    "name": "ipython",
    "version": 2
   },
   "file_extension": ".py",
   "mimetype": "text/x-python",
   "name": "python",
   "nbconvert_exporter": "python",
   "pygments_lexer": "ipython2",
   "version": "2.7.6"
  }
 },
 "nbformat": 4,
 "nbformat_minor": 5
}
