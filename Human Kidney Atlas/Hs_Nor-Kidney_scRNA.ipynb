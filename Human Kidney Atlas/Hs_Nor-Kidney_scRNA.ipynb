{
 "cells": [
  {
   "metadata": {},
   "cell_type": "markdown",
   "source": "# Import Packages and Datasets",
   "id": "855d22f40bd5625f"
  },
  {
   "metadata": {
    "ExecuteTime": {
     "end_time": "2025-03-25T21:48:05.261338Z",
     "start_time": "2025-03-25T21:47:48.041198Z"
    }
   },
   "cell_type": "code",
   "source": [
    "# Import packages\n",
    "import scanpy as sc\n",
    "\n",
    "# Import dataset\n",
    "## ~ 33k Genes\n",
    "normal = sc.read_h5ad('/Volumes/CHAMPANERI/Databases/Human_Nor_Kidney_CellHint_scRNA.h5ad')"
   ],
   "id": "aa733fffc207a962",
   "outputs": [],
   "execution_count": 2
  },
  {
   "metadata": {},
   "cell_type": "markdown",
   "source": "# Preprocess Data and Quality Control",
   "id": "7c2f2116b4bd5e66"
  },
  {
   "metadata": {
    "ExecuteTime": {
     "end_time": "2025-03-25T21:49:05.508634Z",
     "start_time": "2025-03-25T21:48:05.268492Z"
    }
   },
   "cell_type": "code",
   "source": [
    "# Preprocessing of the Data\n",
    "\n",
    "# Basic filtering\n",
    "# Filter out cells that express fewer than 500 genes to remove low-quality cells, empty droplets, and debris.\n",
    "sc.pp.filter_cells(normal, min_genes=500, inplace=True)\n",
    "# Filter out genes that are detected in fewer than 3 cells to eliminate technical noise and very rarely expressed genes.\n",
    "sc.pp.filter_genes(normal, min_cells=3, inplace=True)\n",
    "\n",
    "'''\n",
    "Annotate the group of mitochondrial genes as 'mt'\n",
    "Calculate QC metrics for further filtering\n",
    "\n",
    "# normal.var[\"mt\"] = normal.var_names.str.startswith(\"MT-\")\n",
    "# sc.pp.calculate_qc_metrics(normal, qc_vars=[\"mt\"], percent_top=None, log1p=False, inplace=True)\n",
    "\n",
    "Violin plots of QC metrics -- give us information about how to proceed with filtering\n",
    "Show NO mitochondrial genes and no cells with high total counts -- No further filtering\n",
    "Uncomment to see the plots\n",
    "\n",
    "# sc.pl.violin(normal, ['n_genes_by_counts', 'total_counts', 'pct_counts_mt'], jitter=0.4, multi_panel=True)\n",
    "# sc.pl.scatter(normal, x=\"total_counts\", y=\"pct_counts_mt\")\n",
    "# sc.pl.scatter(normal, x=\"total_counts\", y=\"n_genes_by_counts\")\n",
    "'''\n",
    "\n",
    "# Normalize, log-transform, and scale the data\n",
    "# Normalize the total gene expression in each cell to a target sum of 10,000 to correct for differences in sequencing depth.\n",
    "sc.pp.normalize_total(normal, target_sum=1e4)\n",
    "# Apply a natural logarithm transformation to the normalized data to stabilize variance and make expression values more comparable.\n",
    "sc.pp.log1p(normal)\n",
    "\n",
    "# Identify and plot highly-variable genes\n",
    "# Identify highly-variable genes based on their mean expression and dispersion.\n",
    "sc.pp.highly_variable_genes(normal, min_mean=0.0125, max_mean=3, min_disp=0.5)\n",
    "# sc.pl.highly_variable_genes(normal)\n",
    "\n",
    "# Store the raw data before further processing\n",
    "normal.raw = normal.copy()"
   ],
   "id": "c7a8484670db72fb",
   "outputs": [
    {
     "name": "stderr",
     "output_type": "stream",
     "text": [
      "OMP: Info #276: omp_set_nested routine deprecated, please use omp_set_max_active_levels instead.\n"
     ]
    }
   ],
   "execution_count": 3
  },
  {
   "metadata": {},
   "cell_type": "markdown",
   "source": "# Generate PCA and UMAP plus calculate Dendrogram Keys",
   "id": "3a31c2ed0182e8b2"
  },
  {
   "metadata": {
    "jupyter": {
     "is_executing": true
    },
    "ExecuteTime": {
     "start_time": "2025-03-25T21:49:05.788999Z"
    }
   },
   "cell_type": "code",
   "source": [
    "# Principal Component Analysis (PCA)\n",
    "sc.pp.pca(normal, svd_solver=\"arpack\")\n",
    "# Plot the PCA -- Uncomment to see the plot\n",
    "# sc.pl.pca(normal)\n",
    "# sc.pl.pca_variance_ratio(normal, log=True)\n",
    "\n",
    "# Generate UMAP\n",
    "sc.pp.neighbors(normal)\n",
    "sc.tl.umap(normal)\n",
    "\n",
    "# Leiden clustering\n",
    "sc.tl.leiden(normal, flavor='igraph', n_iterations=2)\n",
    "sc.pl.umap(normal, color=['cell_type']) # Looks better with dark background\n",
    "\n",
    "# Dendrogram Key for downstream visualization\n",
    "sc.tl.dendrogram(normal, groupby='cell_type')\n",
    "sc.tl.dendrogram(normal, groupby='tissue')"
   ],
   "id": "81122481ca88517a",
   "outputs": [],
   "execution_count": null
  },
  {
   "metadata": {},
   "cell_type": "markdown",
   "source": "# Dictionaries",
   "id": "ed8a41738d7dd777"
  },
  {
   "metadata": {},
   "cell_type": "markdown",
   "source": "## Gene Dictionaries",
   "id": "ca02524b7e5a4727"
  },
  {
   "metadata": {},
   "cell_type": "code",
   "outputs": [],
   "execution_count": null,
   "source": [
    "# All Complement Genes\n",
    "gene_dict = {\n",
    "    'C1D': 'ENSG00000197223',\n",
    "    'C1QA': 'ENSG00000173372',\n",
    "    'C1QB': 'ENSG00000173369',\n",
    "    'C1QC': 'ENSG00000159189',\n",
    "    'C1QBP': 'ENSG00000108561',\n",
    "    'C1R': 'ENSG00000159403',\n",
    "    'C1RL': 'ENSG00000139178',\n",
    "    'C1S': 'ENSG00000182326',\n",
    "    'C2_ENSG00000166278': 'ENSG00000166278',\n",
    "    'C3_ENSG00000125730': 'ENSG00000125730',\n",
    "    'C3AR1': 'ENSG00000171860',\n",
    "    'C4A': 'ENSG00000244731',\n",
    "    'C4B': 'ENSG00000224389',\n",
    "    'C4BPA': 'ENSG00000123838',\n",
    "    'C4BPB': 'ENSG00000123843',\n",
    "    'C5': 'ENSG00000106804',\n",
    "    'C5AR1': 'ENSG00000197405',\n",
    "    'C5AR2': 'ENSG00000134830',\n",
    "    'C6_ENSG00000039537': 'ENSG00000039537',\n",
    "    'C7_ENSG00000112936': 'ENSG00000112936',\n",
    "    'C8A': 'ENSG00000157131',\n",
    "    'C8B': 'ENSG00000021852',\n",
    "    'C8G': 'ENSG00000176919',\n",
    "    'C9_ENSG00000113600': 'ENSG00000113600',\n",
    "    'CALR': 'ENSG00000179218',\n",
    "    'CD46': 'ENSG00000117335',\n",
    "    'CD55': 'ENSG00000196352',\n",
    "    'CD59': 'ENSG00000085063',\n",
    "    'CD93': 'ENSG00000125810',\n",
    "    'CFB': 'ENSG00000243649',\n",
    "    'CFD': 'ENSG00000197766',\n",
    "    'CFH': 'ENSG00000000971',\n",
    "    'CFHR1': 'ENSG00000244414',\n",
    "    'CFHR2': 'ENSG00000080910',\n",
    "    'CFHR3': 'ENSG00000116785',\n",
    "    'CFHR4': 'ENSG00000134365',\n",
    "    'CFHR5': 'ENSG00000134389',\n",
    "    'CFI': 'ENSG00000205403',\n",
    "    'CLU': 'ENSG00000120885',\n",
    "    'COLEC10': 'ENSG00000184374',\n",
    "    'COLEC11': 'ENSG00000118004',\n",
    "    'CPB2': 'ENSG00000080618',\n",
    "    'CPN1': 'ENSG00000120054',\n",
    "    'CPN2': 'ENSG00000178772',\n",
    "    'CSMD1': 'ENSG00000183117',\n",
    "    'CFP': 'ENSG00000126759',\n",
    "    'CR1': 'ENSG00000203710',\n",
    "    'CR2': 'ENSG00000117322',\n",
    "    'FCN1': 'ENSG00000085265',\n",
    "    'FCN2': 'ENSG00000160339',\n",
    "    'FCN3': 'ENSG00000142748',\n",
    "    'ITGAM': 'ENSG00000169896',\n",
    "    'ITGAMX': 'XXX',\n",
    "    'ITGAX': 'ENSG00000140678',\n",
    "    'ITGB2': 'ENSG00000160255',\n",
    "    'MASP1': 'ENSG00000127241',\n",
    "    'MASP2': 'ENSG00000009724',\n",
    "    'MASP3': 'XXX',\n",
    "    'MBL2': 'ENSG00000165471',\n",
    "    'SERPING1': 'ENSG00000149131',\n",
    "    'SUSD4': 'ENSG00000143502',\n",
    "    'VSIG4': 'ENSG00000155659',\n",
    "    'VCP': 'ENSG00000165280'\n",
    "}\n"
   ],
   "id": "dcf62468ef19095b"
  },
  {
   "metadata": {},
   "cell_type": "markdown",
   "source": "## Cell Type Dictionaries",
   "id": "732441930dcaf812"
  },
  {
   "metadata": {},
   "cell_type": "code",
   "outputs": [],
   "execution_count": null,
   "source": [
    "# List all the cell types in the dataset\n",
    "cell_types = normal.obs['cell_type'].unique()\n",
    "print(\"Cell Types:\")\n",
    "for cell_type in cell_types:\n",
    "    print(f\"  {cell_type}\")\n",
    "\n",
    "# Define the groups for cell types\n",
    "cell_type_groups = {\n",
    "    'Myeloid Cells': ['myeloid cell', 'classical monocyte', 'non-classical monocyte'],\n",
    "    'Kidney Cells': ['kidney distal convoluted tubule epithelial cell', 'epithelial cell of proximal tubule',\n",
    "                     'kidney connecting tubule epithelial cell', 'kidney loop of Henle thick ascending limb epithelial cell',\n",
    "                     'kidney collecting duct intercalated cell', 'kidney collecting duct principal cell',\n",
    "                     'kidney inner medulla collecting duct epithelial cell', 'kidney loop of Henle thin descending limb epithelial cell',\n",
    "                     'kidney loop of Henle thin ascending limb epithelial cell'],\n",
    "    'Endothelial Cells': ['peritubular capillary endothelial cell', 'glomerular capillary endothelial cell',\n",
    "                          'vasa recta cell', 'kidney arterial blood vessel cell', 'endothelial cell of lymphatic vessel'],\n",
    "    'Fibroblasts': ['kidney interstitial fibroblast', 'renal medullary fibroblast'],\n",
    "    'Epithelial Cells': ['podocyte', 'parietal epithelial cell'],\n",
    "    'Immune Cells': ['lymphocyte', 'dendritic cell, human', 'conventional dendritic cell', 'natural killer cell', 'B cell', 'T cell'],\n",
    "    'Smooth Muscle Cells': ['vascular associated smooth muscle cell', 'mural cell']\n",
    "}\n",
    "\n",
    "# Map cell types to groups\n",
    "normal.obs['cell_type_group'] = 'Other'\n",
    "for group, cell_types in cell_type_groups.items():\n",
    "    normal.obs.loc[normal.obs['cell_type'].isin(cell_types), 'cell_type_group'] = group\n",
    "\n",
    "# Check the new amount of cell types\n",
    "cell_type_groups = normal.obs['cell_type_group'].unique()\n",
    "print(\"Cell Type Groups:\")\n",
    "for group in cell_type_groups:\n",
    "    print(f\"  {group}\")"
   ],
   "id": "19c91bd4e867271e"
  },
  {
   "metadata": {},
   "cell_type": "markdown",
   "source": "# Plotting the Data",
   "id": "1d8cc9ccf126e69d"
  },
  {
   "metadata": {},
   "cell_type": "markdown",
   "source": "## Heatmaps",
   "id": "f4ae45a599ca4cd7"
  },
  {
   "metadata": {},
   "cell_type": "code",
   "outputs": [],
   "execution_count": null,
   "source": "",
   "id": "edfed2cfb894f4e6"
  },
  {
   "metadata": {},
   "cell_type": "markdown",
   "source": "## Dot Plots",
   "id": "25a7e873170b6d68"
  },
  {
   "metadata": {},
   "cell_type": "code",
   "outputs": [],
   "execution_count": null,
   "source": "",
   "id": "3af7ead599b3c421"
  }
 ],
 "metadata": {
  "kernelspec": {
   "display_name": "Python 3",
   "language": "python",
   "name": "python3"
  },
  "language_info": {
   "codemirror_mode": {
    "name": "ipython",
    "version": 2
   },
   "file_extension": ".py",
   "mimetype": "text/x-python",
   "name": "python",
   "nbconvert_exporter": "python",
   "pygments_lexer": "ipython2",
   "version": "2.7.6"
  }
 },
 "nbformat": 4,
 "nbformat_minor": 5
}
