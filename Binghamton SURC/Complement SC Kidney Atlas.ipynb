{
 "cells": [
  {
   "cell_type": "code",
   "execution_count": null,
   "id": "initial_id",
   "metadata": {
    "collapsed": true
   },
   "outputs": [],
   "source": [
    "# Import packages\n",
    "import scanpy as sc\n"
   ]
  },
  {
   "metadata": {},
   "cell_type": "code",
   "outputs": [],
   "execution_count": null,
   "source": "# Import Datasets",
   "id": "306013c046894681"
  },
  {
   "metadata": {},
   "cell_type": "code",
   "outputs": [],
   "execution_count": null,
   "source": [
    "# Define Gene Dictionaries\n",
    "### Complete 'all_genes' then subset receptors, activators, etc.\n",
    "all_genes = {\n",
    "    'C1D': 'ENSG00000197223',\n",
    "    'C1QA': 'ENSG00000173372',\n",
    "    'C1QB': 'ENSG00000173369',\n",
    "    'C1QC': 'ENSG00000159189',\n",
    "    'C1QBP': 'ENSG00000108561',\n",
    "    'C1R': 'ENSG00000159403',\n",
    "    'C1S': 'ENSG00000182326',\n",
    "    'C2': 'ENSG00000166278',\n",
    "    'C3': 'ENSG00000125730',\n",
    "    'C3AR1': 'ENSG00000171860',\n",
    "    'C4A': 'ENSG00000244731',\n",
    "    'C4B': 'ENSG00000224389',\n",
    "    # 'C4BPA': 'XXX',\n",
    "    # 'C4BPB': 'XXX',\n",
    "    'C5': 'ENSG00000106804',\n",
    "    'C5AR1': 'ENSG00000197405',\n",
    "    'C5AR2': 'ENSG00000134830',\n",
    "    'C6': 'ENSG00000039537',\n",
    "    'C7': 'ENSG00000112936',\n",
    "    # 'C8A': 'XXX',\n",
    "    # 'C8B': 'XXX',\n",
    "    # 'C8G': 'XXX',\n",
    "    'C9': 'ENSG00000113600',\n",
    "    # 'CALR': 'XXX',\n",
    "    'CD46': 'ENSG00000117335',\n",
    "    'CD55': 'ENSG00000196352',\n",
    "    'CD59': 'ENSG00000085063',\n",
    "    # 'CD93': 'XXX',\n",
    "    'CFB': 'ENSG00000243649',\n",
    "    'CFD': 'ENSG00000197766',\n",
    "    'CFH': 'ENSG00000000971',\n",
    "    # 'CFHR1': 'XXX',\n",
    "    # 'CFHR2': 'XXX',\n",
    "    # 'CFHR4': 'XXX',\n",
    "    # 'CFHR5': 'XXX',\n",
    "    'CFI': 'ENSG00000205403',\n",
    "    # 'CLU': 'XXX',\n",
    "    # 'CPB2': 'XXX',\n",
    "    # 'CPN1': 'XXX',\n",
    "    # 'CPN2': 'XXX',\n",
    "    'CFP': 'ENSG00000126759',\n",
    "    'CR1': 'ENSG00000203710',\n",
    "    'CR2': 'ENSG00000117322',\n",
    "    'FCN1': 'ENSG00000085265',\n",
    "    'FCN2': 'ENSG00000160339',\n",
    "    'FCN3': 'ENSG00000142748',\n",
    "    # 'ITGAM': 'XXX',\n",
    "    # 'ITGAMX': 'XXX',\n",
    "    # 'ITGB2': 'XXX',\n",
    "    # 'MASP1': 'XXX',\n",
    "    # 'MASP2': 'XXX',\n",
    "    # 'MBL2': 'XXX',\n",
    "    # 'SERPING1': 'XXX',\n",
    "    # 'VSIG4': 'XXX',\n",
    "    'VCP': 'ENSG00000165280'\n",
    "}\n",
    "\n",
    "\n"
   ],
   "id": "faa779a2b37fec72"
  },
  {
   "metadata": {},
   "cell_type": "code",
   "outputs": [],
   "execution_count": null,
   "source": "# Preprocessing of the Data\n",
   "id": "7a1f624e1da99854"
  },
  {
   "metadata": {},
   "cell_type": "code",
   "outputs": [],
   "execution_count": null,
   "source": [
    "# Generate UMAP\n",
    "'''\n",
    "BIG TIME WIP\n",
    "'''"
   ],
   "id": "b6fffbce9fe9c49d"
  }
 ],
 "metadata": {
  "kernelspec": {
   "display_name": "Python 3",
   "language": "python",
   "name": "python3"
  },
  "language_info": {
   "codemirror_mode": {
    "name": "ipython",
    "version": 2
   },
   "file_extension": ".py",
   "mimetype": "text/x-python",
   "name": "python",
   "nbconvert_exporter": "python",
   "pygments_lexer": "ipython2",
   "version": "2.7.6"
  }
 },
 "nbformat": 4,
 "nbformat_minor": 5
}
