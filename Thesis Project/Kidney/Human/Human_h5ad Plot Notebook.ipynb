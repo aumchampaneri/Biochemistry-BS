{
 "cells": [
  {
   "metadata": {},
   "cell_type": "code",
   "outputs": [],
   "execution_count": null,
   "source": [
    "# Import packages\n",
    "import scanpy as sc\n",
    "\n",
    "# Load the kidney data\n",
    "kidney = sc.read_h5ad(\"/Volumes/CHAMPANERI/Databases/KidneyData.h5ad\")\n",
    "\n",
    "all_genes = {\n",
    "    'C1D': 'ENSG00000197223',\n",
    "    'C1QA': 'ENSG00000173372',\n",
    "    'C1QB': 'ENSG00000173369',\n",
    "    'C1QBP': 'ENSG00000108561',\n",
    "    'C1QC': 'ENSG00000159189',\n",
    "    # 'C1R': 'ENSG00000159403',\n",
    "    'C1S': 'ENSG00000182326',\n",
    "    # 'C2': 'ENSG00000166278',\n",
    "    'C3': 'ENSG00000125730',\n",
    "    'C3AR1': 'ENSG00000171860',\n",
    "    # 'C4A': 'ENSG00000244731',\n",
    "    # 'C4B': 'ENSG00000224389',\n",
    "    'C5': 'ENSG00000106804',\n",
    "    'C5AR1': 'ENSG00000197405',\n",
    "    'C5AR2': 'ENSG00000134830',\n",
    "    'C6': 'ENSG00000039537',\n",
    "    'C7': 'ENSG00000112936',\n",
    "    'C9': 'ENSG00000113600',\n",
    "    'CD46': 'ENSG00000117335',\n",
    "    'CD55': 'ENSG00000196352',\n",
    "    'CD59': 'ENSG00000085063',\n",
    "    # 'CFB': 'ENSG00000243649',\n",
    "    # 'CFD': 'ENSG00000197766',\n",
    "    'CFH': 'ENSG00000000971',\n",
    "    'CFI': 'ENSG00000205403',\n",
    "    'CFP': 'ENSG00000126759',\n",
    "    'CR1': 'ENSG00000203710',\n",
    "    'CR2': 'ENSG00000117322',\n",
    "    'FCN1': 'ENSG00000085265',\n",
    "    'FCN2': 'ENSG00000160339',\n",
    "    'FCN3': 'ENSG00000142748',\n",
    "    'VCP': 'ENSG00000165280'\n",
    "}\n",
    "\n",
    "subset_genes = {\n",
    "    \"C3\": \"ENSG00000125730\",\n",
    "    \"C3AR1\": \"ENSG00000171860\",\n",
    "    \"C5\": \"ENSG00000106804\",\n",
    "    \"C5AR1\": \"ENSG00000197405\",\n",
    "    \"C5AR2\": \"ENSG00000134830\",\n",
    "    \"CFH\": \"ENSG00000000971\",\n",
    "}"
   ],
   "id": "8699c0d412077293"
  },
  {
   "metadata": {},
   "cell_type": "code",
   "outputs": [],
   "execution_count": null,
   "source": [
    "# Define the dendrogram location in anndata\n",
    "sc.tl.dendrogram(kidney, groupby='cell_type')\n",
    "sc.pp.pca(kidney, )"
   ],
   "id": "34d74f340bda1ea9"
  },
  {
   "metadata": {},
   "cell_type": "code",
   "outputs": [],
   "execution_count": null,
   "source": [
    "sc.pl.dotplot(\n",
    "    kidney,\n",
    "    all_genes,\n",
    "    groupby='cell_type',\n",
    "    title='Kidney Cell Type Complement Gene Expression',\n",
    "    dendrogram=True,\n",
    "    mean_only_expressed=True,\n",
    "    log=True,\n",
    "    colorbar_title='mean expression in group (log scale)',\n",
    "    save='human-h5ad_all-gene_cell-type_dp.png'\n",
    ")"
   ],
   "id": "a11b29c83dcab5b2"
  }
 ],
 "metadata": {
  "kernelspec": {
   "display_name": "Python 3",
   "language": "python",
   "name": "python3"
  },
  "language_info": {
   "codemirror_mode": {
    "name": "ipython",
    "version": 2
   },
   "file_extension": ".py",
   "mimetype": "text/x-python",
   "name": "python",
   "nbconvert_exporter": "python",
   "pygments_lexer": "ipython2",
   "version": "2.7.6"
  }
 },
 "nbformat": 4,
 "nbformat_minor": 5
}
